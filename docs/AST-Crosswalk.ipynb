{
 "cells": [
  {
   "cell_type": "code",
   "execution_count": 1,
   "metadata": {},
   "outputs": [
    {
     "data": {
      "text/html": [
       "<div id=\"interact-js-shim\">\n",
       "    <script charset=\"utf-8\">\n",
       "(function (IPython, $, _, MathJax) {\n",
       "    $.event.special.destroyed = {\n",
       "\tremove: function(o) {\n",
       "\t    if (o.handler) {\n",
       "\t\to.handler.apply(this, arguments)\n",
       "\t    }\n",
       "\t}\n",
       "    }\n",
       "\n",
       "    var OutputArea = IPython.version >= \"4.0.0\" ? require(\"notebook/js/outputarea\").OutputArea : IPython.OutputArea;\n",
       "\n",
       "    var redrawValue = function (container, type, val) {\n",
       "\tvar selector = $(\"<div/>\");\n",
       "\tvar oa = new OutputArea(_.extend(selector, {\n",
       "\t    selector: selector,\n",
       "\t    prompt_area: true,\n",
       "\t    events: IPython.events,\n",
       "\t    keyboard_manager: IPython.keyboard_manager\n",
       "\t})); // Hack to work with IPython 2.1.0\n",
       "\n",
       "\tswitch (type) {\n",
       "\tcase \"image/png\":\n",
       "            var _src = 'data:' + type + ';base64,' + val;\n",
       "\t    $(container).find(\"img\").attr('src', _src);\n",
       "\t    break;\n",
       "\tcase \"text/latex\":\n",
       "\t\tif (MathJax){\n",
       "\t\t\tvar math = MathJax.Hub.getAllJax(container)[0];\n",
       "\t\t\tMathJax.Hub.Queue([\"Text\", math, val.replace(/^\\${1,2}|\\${1,2}$/g, '')]);\n",
       "\t\t\tbreak;\n",
       "\t\t}\n",
       "\tdefault:\n",
       "\t    var toinsert = OutputArea.append_map[type].apply(\n",
       "\t\toa, [val, {}, selector]\n",
       "\t    );\n",
       "\t    $(container).empty().append(toinsert.contents());\n",
       "\t    selector.remove();\n",
       "\t}\n",
       "    }\n",
       "\n",
       "\n",
       "    $(document).ready(function() {\n",
       "\tfunction initComm(evt, data) {\n",
       "\t    var comm_manager = data.kernel.comm_manager;\n",
       "        //_.extend(comm_manager.targets, require(\"widgets/js/widget\"))\n",
       "\t    comm_manager.register_target(\"Signal\", function (comm) {\n",
       "            comm.on_msg(function (msg) {\n",
       "                var val = msg.content.data.value;\n",
       "                $(\".signal-\" + comm.comm_id).each(function() {\n",
       "                var type = $(this).data(\"type\");\n",
       "                if (typeof(val[type]) !== \"undefined\" && val[type] !== null) {\n",
       "                    redrawValue(this, type, val[type], type);\n",
       "                }\n",
       "                });\n",
       "                delete val;\n",
       "                delete msg.content.data.value;\n",
       "            });\n",
       "\t    });\n",
       "\n",
       "\t    // coordingate with Comm and redraw Signals\n",
       "\t    // XXX: Test using Reactive here to improve performance\n",
       "\t    $([IPython.events]).on(\n",
       "\t\t'output_appended.OutputArea', function (event, type, value, md, toinsert) {\n",
       "\t\t    if (md && md.reactive) {\n",
       "                // console.log(md.comm_id);\n",
       "                toinsert.addClass(\"signal-\" + md.comm_id);\n",
       "                toinsert.data(\"type\", type);\n",
       "                // Signal back indicating the mimetype required\n",
       "                var comm_manager = IPython.notebook.kernel.comm_manager;\n",
       "                var comm = comm_manager.comms[md.comm_id];\n",
       "                comm.then(function (c) {\n",
       "                    c.send({action: \"subscribe_mime\",\n",
       "                       mime: type});\n",
       "                    toinsert.bind(\"destroyed\", function() {\n",
       "                        c.send({action: \"unsubscribe_mime\",\n",
       "                               mime: type});\n",
       "                    });\n",
       "                })\n",
       "\t\t    }\n",
       "\t    });\n",
       "\t}\n",
       "\n",
       "\ttry {\n",
       "\t    // try to initialize right away. otherwise, wait on the status_started event.\n",
       "\t    initComm(undefined, IPython.notebook);\n",
       "\t} catch (e) {\n",
       "\t    $([IPython.events]).on('kernel_created.Kernel kernel_created.Session', initComm);\n",
       "\t}\n",
       "    });\n",
       "})(IPython, jQuery, _, MathJax);\n",
       "</script>\n",
       "    <script>\n",
       "        window.interactLoadedFlag = true\n",
       "       $(\"#interact-js-shim\").bind(\"destroyed\", function () {\n",
       "           if (window.interactLoadedFlag) {\n",
       "               console.warn(\"JavaScript required by Interact will be removed if you remove this cell or run using Interact more than once.\")\n",
       "           }\n",
       "       })\n",
       "       $([IPython.events]).on(\"kernel_starting.Kernel kernel_restarting.Kernel\", function () { window.interactLoadedFlag = false })\n",
       "   </script>\n",
       "</div>"
      ]
     },
     "metadata": {},
     "output_type": "display_data"
    }
   ],
   "source": [
    "using AutomotiveDrivingModels\n",
    "using AutoViz\n",
    "using Reel\n",
    "using Vec\n",
    "using Distributions\n",
    "using AdaptiveStressTesting\n",
    "using Records\n",
    "using Interact"
   ]
  },
  {
   "cell_type": "code",
   "execution_count": 2,
   "metadata": {
    "scrolled": true
   },
   "outputs": [],
   "source": [
    "type SimParams\n",
    "    endtime::Int64\n",
    "    logging::Bool\n",
    "end\n",
    "\n",
    "type CarSim\n",
    "    p::SimParams\n",
    "    scene::Scene             # The scene contains info about cars\n",
    "    roadway::CrosswalkEnv         # roadway, layout of the road\n",
    "    models::Dict{Int, DriverModel}     # driver models for each car\n",
    "    actions::Array{Any,1}     # actions for each car, MCTS controls actions[1]\n",
    "    initial::Scene\n",
    "    states::Vector{Scene}        # Array that holds all states\n",
    "    t::Int64                # To keep track of number of calls\n",
    "end"
   ]
  },
  {
   "cell_type": "markdown",
   "metadata": {},
   "source": [
    "### Modifying the render function to show the crosswalk"
   ]
  },
  {
   "cell_type": "code",
   "execution_count": 3,
   "metadata": {},
   "outputs": [],
   "source": [
    "function AutoViz.render!(rendermodel::RenderModel, env::CrosswalkEnv)\n",
    "    render!(rendermodel, env.roadway)\n",
    "\n",
    "    curve = env.crosswalk.curve\n",
    "    n = length(curve)\n",
    "    pts = Array(Float64, 2, n)\n",
    "    for (i,pt) in enumerate(curve)\n",
    "        pts[1,i] = pt.pos.x\n",
    "        pts[2,i] = pt.pos.y\n",
    "    end\n",
    "\n",
    "    add_instruction!(rendermodel, render_dashed_line, (pts, colorant\"white\", env.crosswalk.width, 1.0, 1.0, 0.0, Cairo.CAIRO_LINE_CAP_BUTT))\n",
    "    return rendermodel\n",
    "end"
   ]
  },
  {
   "cell_type": "markdown",
   "metadata": {},
   "source": [
    "### Simulation function and adaptive stress testing interface functions"
   ]
  },
  {
   "cell_type": "code",
   "execution_count": 4,
   "metadata": {
    "scrolled": false
   },
   "outputs": [
    {
     "data": {
      "text/plain": [
       "reward_fun (generic function with 1 method)"
      ]
     },
     "execution_count": 4,
     "metadata": {},
     "output_type": "execute_result"
    }
   ],
   "source": [
    "function CarSim(params::SimParams, models::Dict{Int, DriverModel})\n",
    "\n",
    "    roadway = gen_straight_roadway(2,100.0,origin = VecSE2(-50.0,0.0,0.0))\n",
    "\n",
    "    cam = FitToContentCamera(0.0)\n",
    "    crosswalk = Lane(LaneTag(2,1), gen_straight_curve(VecE2(0.0, -DEFAULT_LANE_WIDTH), VecE2(0.0, 2*DEFAULT_LANE_WIDTH), 2), width=2.0)\n",
    "    cw_segment = RoadSegment(2, [crosswalk])\n",
    "    push!(roadway.segments, cw_segment)\n",
    "    sensor = SimpleSensor(0.1,0.1,0.0)\n",
    "    env = CrosswalkEnv(roadway, crosswalk, sensor,Array{Any,1}(),Array{Any,1}())\n",
    "    cw_roadway = Roadway([RoadSegment(2, [env.crosswalk])]);\n",
    "    PEDESTRIAN_DEF = VehicleDef(AgentClass.PEDESTRIAN, 1.0, 1.0)\n",
    "    scene = Scene()\n",
    "\n",
    "    cars = [Vehicle(VehicleState(VecSE2(-35.0,0,0), roadway.segments[1].lanes[1],roadway, 11.17),\n",
    "             VehicleDef(), 1), Vehicle(VehicleState(VecSE2(0.0,-2.0,π/2), env.crosswalk, cw_roadway, 1.4),\n",
    "             PEDESTRIAN_DEF, 2)]\n",
    "\n",
    "    car1 = cars[1]\n",
    "    car2 = cars[2]\n",
    "    push!(scene, car1)\n",
    "    push!(scene, car2)\n",
    "    initial = deepcopy(scene)\n",
    "    env.observed = [car2]\n",
    "    actions = get_actions!(Array(Any, length(scene)), scene, roadway, models)\n",
    "    CarSim(params, scene, env, models, actions, initial, Vector{Scene}(), 0)\n",
    "end\n",
    "\n",
    "function initialize(sim::CarSim)\n",
    "    sim.t = 0\n",
    "    sim.scene = deepcopy(sim.initial)\n",
    "    sim.roadway.observed = [sim.scene[2]]\n",
    "    empty!(sim.roadway.noise)\n",
    "    empty!(sim.states)\n",
    "    if sim.p.logging\n",
    "        push!(sim.states, deepcopy(sim.scene))\n",
    "    end\n",
    "end\n",
    "\n",
    "function update(sim::CarSim)\n",
    "    sim.t += 1\n",
    "    get_actions!(sim.actions, sim.scene, sim.roadway, sim.models)\n",
    "    tick!(sim.scene, sim.roadway.roadway, sim.actions, 0.1)\n",
    "    prob = 0\n",
    "    for i in 2:sim.scene.n\n",
    "        prob = prob + sqmahal(sim.models[i], sim.actions[i])\n",
    "    end\n",
    "    prob = prob + sim.roadway.sensormodel.likelihood\n",
    "    locs = [car.state.posG for car in sim.scene]\n",
    "    dists = [dist(convert(VecE2, locs[1]), convert(VecE2, locs[i])) for i in 2:sim.scene.n]\n",
    "    if sim.p.logging\n",
    "        push!(sim.states, deepcopy(sim.scene))\n",
    "    end\n",
    "    return (prob, isevent(sim), minimum(dists))\n",
    "end\n",
    "\n",
    "function isevent(sim::CarSim)\n",
    "    event = false\n",
    "    E = [is_colliding(sim.scene[1], sim.scene[i])&&(sim.scene[1].state.v > 0.01) for i in 2:sim.scene.n]\n",
    "    if any(x -> x > 0, E)\n",
    "        event = true\n",
    "    end\n",
    "    return event\n",
    "end\n",
    "\n",
    "function isterminal(sim::CarSim)\n",
    "\n",
    "    isevent(sim) || sim.t >= sim.p.endtime\n",
    "end\n",
    "\n",
    "function reward_fun(prob::Float64, event::Bool, terminal::Bool, dist::Float64,\n",
    "                            ast::AdaptiveStressTest,sim::CarSim) #ast and sim not used in default\n",
    "    r = - log(1 + sqrt(prob))\n",
    "    if event\n",
    "        r += 0.0\n",
    "    elseif terminal #incur distance cost only if !event && terminal\n",
    "        r += -10000 - 1000*dist\n",
    "    end\n",
    "    r\n",
    "end\n"
   ]
  },
  {
   "cell_type": "code",
   "execution_count": 5,
   "metadata": {
    "scrolled": true
   },
   "outputs": [
    {
     "data": {
      "text/plain": [
       "run_sim (generic function with 1 method)"
      ]
     },
     "execution_count": 5,
     "metadata": {},
     "output_type": "execute_result"
    }
   ],
   "source": [
    "function run_sim(maxtime::Int64,s::Array{Float64,1},d::Int64,n::Int64,seed::Int64)\n",
    "    const MAXTIME = maxtime #sim endtime\n",
    "    const RNG_LENGTH = 2\n",
    "    timestep = 0.1\n",
    "    models = Dict{Int, DriverModel}()\n",
    "    models[1] = Tim2DDriver(timestep, mlon = IntelligentDriverModel(), mlat = ProportionalLaneTracker())\n",
    "    models[2] = CrosswalkDriver(LaneSpecificAccelLatLon(0.0,0.0), s)\n",
    "\n",
    "    sim_params = SimParams(MAXTIME, true)\n",
    "\n",
    "    sim = CarSim(sim_params, models)\n",
    "\n",
    "    ast_params = ASTParams(MAXTIME, RNG_LENGTH, seed, 0)\n",
    "    ast = AdaptiveStressTest(ast_params, sim, initialize, update, isterminal, reward_fun)\n",
    "\n",
    "\n",
    "    mcts_params = DPWParams()\n",
    "    mcts_params.d = d\n",
    "    mcts_params.ec = 100\n",
    "    mcts_params.n = n\n",
    "    mcts_params.k = 0.5\n",
    "    mcts_params.alpha = 0.85\n",
    "    mcts_params.kp = 1.0\n",
    "    mcts_params.alphap = 0.0\n",
    "    mcts_params.clear_nodes = true\n",
    "    mcts_params.maxtime_s = realmax(Float64)\n",
    "    mcts_params.top_k = 1\n",
    "    mcts_params.rng_seed = UInt64(0)\n",
    "    result = stress_test(ast, mcts_params)\n",
    "    return sim, result.rewards, result.action_seqs, result.r_history\n",
    "\n",
    "end"
   ]
  },
  {
   "cell_type": "code",
   "execution_count": 9,
   "metadata": {},
   "outputs": [
    {
     "name": "stdout",
     "output_type": "stream",
     "text": [
      "Step: 1 of 100\n",
      "Size of sdict: 2000\n",
      "Step: 2 of 100\n",
      "Size of sdict: 3552\n",
      "Step: 3 of 100\n",
      "Size of sdict: 4397\n",
      "Step: 4 of 100\n",
      "Size of sdict: 5360\n",
      "Step: 5 of 100\n",
      "Size of sdict: 6438\n",
      "Step: 6 of 100\n",
      "Size of sdict: 7378\n",
      "Step: 7 of 100\n",
      "Size of sdict: 8133\n",
      "Step: 8 of 100\n",
      "Size of sdict: 8109\n",
      "Step: 9 of 100\n",
      "Size of sdict: 2009\n",
      "Step: 10 of 100\n",
      "Size of sdict: 2624\n",
      "Step: 11 of 100\n",
      "Size of sdict: 2931\n",
      "Step: 12 of 100\n",
      "Size of sdict: 3191\n",
      "Step: 13 of 100\n",
      "Size of sdict: 2717\n",
      "Step: 14 of 100\n",
      "Size of sdict: 3716\n",
      "Step: 15 of 100\n",
      "Size of sdict: 4094\n",
      "Step: 16 of 100\n",
      "Size of sdict: 2016\n",
      "Step: 17 of 100\n",
      "Size of sdict: 2700\n",
      "Step: 18 of 100\n",
      "Size of sdict: 3326\n",
      "Step: 19 of 100\n",
      "Size of sdict: 2032\n",
      "Step: 20 of 100\n",
      "Size of sdict: 2043\n",
      "Step: 21 of 100\n",
      "Size of sdict: 2143\n",
      "Step: 22 of 100\n",
      "Size of sdict: 2129\n",
      "Step: 23 of 100\n",
      "Size of sdict: 2063\n",
      "Step: 24 of 100\n",
      "Size of sdict: 2094\n",
      "Step: 25 of 100\n",
      "Size of sdict: 2039\n",
      "Step: 26 of 100\n",
      "Size of sdict: 2030\n",
      "Step: 27 of 100\n",
      "Size of sdict: 2047\n",
      "Step: 28 of 100\n",
      "Size of sdict: 2118\n",
      "Step: 29 of 100\n",
      "Size of sdict: 2041\n",
      "Step: 30 of 100\n",
      "Size of sdict: 2039\n",
      "Step: 31 of 100\n",
      "Size of sdict: 2066\n",
      "Step: 32 of 100\n",
      "Size of sdict: 2047\n",
      "Step: 33 of 100\n",
      "Size of sdict: 2063\n",
      "Step: 34 of 100\n",
      "Size of sdict: 2040\n",
      "Step: 35 of 100\n",
      "Size of sdict: 2127\n",
      "Step: 36 of 100\n",
      "Size of sdict: 2037\n",
      "Step: 37 of 100\n",
      "Size of sdict: 2059\n",
      "Step: 38 of 100\n",
      "Size of sdict: 2148\n",
      "Step: 39 of 100\n",
      "Size of sdict: 2078\n",
      "Step: 40 of 100\n",
      "Size of sdict: 2040\n",
      "Step: 41 of 100\n",
      "Size of sdict: 2042\n",
      "Step: 42 of 100\n",
      "Size of sdict: 2072\n",
      "Step: 43 of 100\n",
      "Size of sdict: 2082\n",
      "Step: 44 of 100\n",
      "Size of sdict: 2110\n",
      "Step: 45 of 100\n",
      "Size of sdict: 2192\n",
      "Step: 46 of 100\n",
      "Size of sdict: 2068\n",
      "Step: 47 of 100\n",
      "Size of sdict: 2249\n",
      "Step: 48 of 100\n",
      "Size of sdict: 2054\n",
      "Step: 49 of 100\n",
      "Size of sdict: 2739\n",
      "Step: 50 of 100\n",
      "Size of sdict: 2085\n",
      "Step: 51 of 100\n",
      "Size of sdict: 2355\n",
      "Step: 52 of 100\n",
      "Size of sdict: 2056\n",
      "Step: 53 of 100\n",
      "Size of sdict: 2172\n",
      "Step: 54 of 100\n",
      "Size of sdict: 2097\n",
      "Step: 55 of 100\n",
      "Size of sdict: 2107\n",
      "Step: 56 of 100\n",
      "Size of sdict: 2234\n",
      "Step: 57 of 100\n",
      "Size of sdict: 2099\n",
      "Step: 58 of 100\n",
      "Size of sdict: 2077\n",
      "Step: 59 of 100\n",
      "Size of sdict: 2134\n",
      "Step: 60 of 100\n",
      "Size of sdict: 2071\n",
      "Step: 61 of 100\n",
      "Size of sdict: 2062\n",
      "Step: 62 of 100\n",
      "Size of sdict: 2083\n",
      "Step: 63 of 100\n",
      "Size of sdict: 2243\n",
      "Step: 64 of 100\n",
      "Size of sdict: 2131\n",
      "Step: 65 of 100\n",
      "Size of sdict: 2117\n",
      "Step: 66 of 100\n",
      "Size of sdict: 2103\n",
      "Step: 67 of 100\n",
      "Size of sdict: 2098\n",
      "Step: 68 of 100\n",
      "Size of sdict: 2105\n",
      "Step: 69 of 100\n",
      "Size of sdict: 2206\n",
      "Step: 70 of 100\n",
      "Size of sdict: 2085\n",
      "Step: 71 of 100\n",
      "Size of sdict: 2076\n",
      "Step: 72 of 100\n",
      "Size of sdict: 2103\n",
      "Step: 73 of 100\n",
      "Size of sdict: 2080\n",
      "Step: 74 of 100\n",
      "Size of sdict: 2109\n",
      "Step: 75 of 100\n",
      "Size of sdict: 2078\n",
      "Step: 76 of 100\n",
      "Size of sdict: 2077\n",
      "Step: 77 of 100\n",
      "Size of sdict: 2167\n",
      "Step: 78 of 100\n",
      "Size of sdict: 2215\n",
      "Step: 79 of 100\n",
      "Size of sdict: 2159\n",
      "Step: 80 of 100\n",
      "Size of sdict: 2084\n",
      "Step: 81 of 100\n",
      "Size of sdict: 2161\n",
      "Step: 82 of 100\n",
      "Size of sdict: 2289\n",
      "Step: 83 of 100\n",
      "Size of sdict: 2113\n",
      "Step: 84 of 100\n",
      "Size of sdict: 2249\n",
      "Step: 85 of 100\n",
      "Size of sdict: 3170\n",
      "Step: 86 of 100\n",
      "Size of sdict: 4630\n",
      "Step: 87 of 100\n",
      "Size of sdict: 5872\n",
      "Step: 88 of 100\n",
      "Size of sdict: 6918\n",
      "Step: 89 of 100\n",
      "Size of sdict: 7192\n",
      "Step: 90 of 100\n",
      "Size of sdict: 5558\n",
      "Step: 91 of 100\n",
      "Size of sdict: 1822\n",
      "Step: 92 of 100\n",
      "Size of sdict: 1215\n",
      "Step: 93 of 100\n",
      "Size of sdict: 267\n"
     ]
    }
   ],
   "source": [
    "sim, reward, action_seq, r_history = run_sim(100,[.01,.1],100,2000,30);"
   ]
  },
  {
   "cell_type": "markdown",
   "metadata": {},
   "source": [
    "### Use the slider to see the failure scenario step by step\n",
    "using Interact"
   ]
  },
  {
   "cell_type": "code",
   "execution_count": 10,
   "metadata": {
    "scrolled": false
   },
   "outputs": [
    {
     "data": {
      "application/vnd.jupyter.widget-view+json": {
       "model_id": "fa01e9a1-0dd9-46a9-93bf-2d69213265a3",
       "version_major": 2,
       "version_minor": 0
      }
     },
     "metadata": {},
     "output_type": "display_data"
    },
    {
     "data": {
      "text/html": [],
      "text/plain": [
       "Interact.Options{:SelectionSlider,Any}(5: \"input-2\" = 47 Any , \"idx\", 47, \"47\", 47, Interact.OptionDict(DataStructures.OrderedDict{Any,Any}(\"1\"=>1,\"2\"=>2,\"3\"=>3,\"4\"=>4,\"5\"=>5,\"6\"=>6,\"7\"=>7,\"8\"=>8,\"9\"=>9,\"10\"=>10…), Dict{Any,Any}(Pair{Any,Any}(68, \"68\"),Pair{Any,Any}(2, \"2\"),Pair{Any,Any}(89, \"89\"),Pair{Any,Any}(11, \"11\"),Pair{Any,Any}(39, \"39\"),Pair{Any,Any}(46, \"46\"),Pair{Any,Any}(85, \"85\"),Pair{Any,Any}(25, \"25\"),Pair{Any,Any}(55, \"55\"),Pair{Any,Any}(42, \"42\")…)), Any[], Any[], true, \"horizontal\")"
      ]
     },
     "metadata": {},
     "output_type": "display_data"
    },
    {
     "data": {
      "image/png": "[encoded data removed]",
      "text/plain": [
       "Cairo.CairoSurface{UInt32}(Ptr{Void} @0x00007ffe93bd8f60, 1000.0, 600.0, #undef)"
      ]
     },
     "execution_count": 10,
     "metadata": {
      "comm_id": "8927cddb-661c-470b-90ca-d73ca104c4b8",
      "reactive": true
     },
     "output_type": "execute_result"
    }
   ],
   "source": [
    "carcolors = Dict{Int,Colorant}()\n",
    "carcolors[1] = colorant\"red\"\n",
    "carcolors[2] = colorant\"blue\"\n",
    "@manipulate for idx = 1:length(sim.states)\n",
    "    render(sim.states[idx], sim.roadway, cam=FitToContentCamera(), car_colors=carcolors)\n",
    "end"
   ]
  },
  {
   "cell_type": "markdown",
   "metadata": {},
   "source": [
    "### Save as a gif\n",
    "using Reel"
   ]
  },
  {
   "cell_type": "code",
   "execution_count": 11,
   "metadata": {
    "scrolled": true
   },
   "outputs": [
    {
     "name": "stdout",
     "output_type": "stream",
     "text": [
      "creating gif...\n"
     ]
    },
    {
     "data": {
      "text/plain": [
       "\"collision.gif\""
      ]
     },
     "execution_count": 11,
     "metadata": {},
     "output_type": "execute_result"
    }
   ],
   "source": [
    "frames = Frames(MIME(\"image/png\"), fps=10)\n",
    "for frame in 1 : length(sim.states)\n",
    "    s = render(sim.states[frame], sim.roadway, cam=FitToContentCamera(), car_colors=carcolors)\n",
    "    push!(frames, s)\n",
    "end\n",
    "println(\"creating gif...\")\n",
    "write(\"collision.gif\", frames)"
   ]
  }
 ],
 "metadata": {
  "kernelspec": {
   "display_name": "Julia 0.6.2",
   "language": "julia",
   "name": "julia-0.6"
  },
  "language_info": {
   "file_extension": ".jl",
   "mimetype": "application/julia",
   "name": "julia",
   "version": "0.6.2"
  },
  "widgets": {
   "state": {
    "77ca45dd-766b-49b5-bbdd-5481023c8230": {
     "views": [
      {
       "cell_index": 11
      }
     ]
    },
    "7d2de1bc-8bcd-431e-9892-f2f2534f654c": {
     "views": [
      {
       "cell_index": 4
      }
     ]
    },
    "e65f61d2-f613-41ec-87ef-caace290d07a": {
     "views": [
      {
       "cell_index": 7
      }
     ]
    }
   },
   "version": "1.2.0"
  }
 },
 "nbformat": 4,
 "nbformat_minor": 1
}
